{
 "metadata": {
  "language_info": {
   "codemirror_mode": {
    "name": "ipython",
    "version": 3
   },
   "file_extension": ".py",
   "mimetype": "text/x-python",
   "name": "python",
   "nbconvert_exporter": "python",
   "pygments_lexer": "ipython3",
   "version": "3.8.10"
  },
  "orig_nbformat": 4,
  "kernelspec": {
   "name": "python3",
   "display_name": "Python 3.8.10 64-bit ('base': conda)"
  },
  "interpreter": {
   "hash": "948d73eb6dfda2e804d788ca8e9f193cc8a7762f6fd3fe59d9c3fe882d54f9f4"
  }
 },
 "nbformat": 4,
 "nbformat_minor": 2,
 "cells": [
  {
   "cell_type": "code",
   "execution_count": 1,
   "metadata": {},
   "outputs": [],
   "source": [
    "from bs4 import BeautifulSoup\n",
    "import requests\n",
    "import re,urllib,io\n",
    "import gzip\n"
   ]
  },
  {
   "cell_type": "code",
   "execution_count": 2,
   "metadata": {},
   "outputs": [
    {
     "output_type": "execute_result",
     "data": {
      "text/plain": [
       "<a class=\"tracked-offsite-link\" data-ref=\"fea_mn_lk3\" href=\"https://datasets.imdbws.com/\" target=\"_blank\">https://datasets.imdbws.com/</a>"
      ]
     },
     "metadata": {},
     "execution_count": 2
    }
   ],
   "source": [
    "url1 = \"https://www.imdb.com/interfaces/\"\n",
    "response = requests.get(url1)\n",
    "soup = BeautifulSoup(response.content, 'html.parser')\n",
    "mytag = soup.find_all(\"a\",text=re.compile(\"https://datasets.imdbws.com/\"))[0]\n",
    "mytag"
   ]
  },
  {
   "cell_type": "code",
   "execution_count": 3,
   "metadata": {},
   "outputs": [
    {
     "output_type": "stream",
     "name": "stdout",
     "text": [
      "https://datasets.imdbws.com/name.basics.tsv.gz\nhttps://datasets.imdbws.com/title.akas.tsv.gz\nhttps://datasets.imdbws.com/title.basics.tsv.gz\nhttps://datasets.imdbws.com/title.crew.tsv.gz\nhttps://datasets.imdbws.com/title.episode.tsv.gz\nhttps://datasets.imdbws.com/title.principals.tsv.gz\nhttps://datasets.imdbws.com/title.ratings.tsv.gz\n"
     ]
    }
   ],
   "source": [
    "url1 = mytag.contents[0]\n",
    "response = requests.get(url1)\n",
    "soup = BeautifulSoup(response.content, 'html.parser')\n",
    "mytag = soup.find_all(\"a\")\n",
    "\n",
    "for a in mytag[1:]:\n",
    "    print(a[\"href\"])"
   ]
  },
  {
   "cell_type": "code",
   "execution_count": 5,
   "metadata": {},
   "outputs": [],
   "source": [
    "url2 = []\n",
    "\n",
    "file = re.findall(re.compile(r\"/(name.*)\"),mytag[1][\"href\"])[0][:-3]\n",
    "url2.append((file,mytag[1][\"href\"]))\n",
    "\n",
    "for link in mytag[2:]:\n",
    "    file = re.findall(re.compile(r\"/(title.*)\"),link[\"href\"])[0][:-3]\n",
    "    url2.append((file,link[\"href\"]))"
   ]
  },
  {
   "cell_type": "code",
   "execution_count": 6,
   "metadata": {},
   "outputs": [
    {
     "output_type": "execute_result",
     "data": {
      "text/plain": [
       "[('name.basics.tsv', 'https://datasets.imdbws.com/name.basics.tsv.gz'),\n",
       " ('title.akas.tsv', 'https://datasets.imdbws.com/title.akas.tsv.gz'),\n",
       " ('title.basics.tsv', 'https://datasets.imdbws.com/title.basics.tsv.gz'),\n",
       " ('title.crew.tsv', 'https://datasets.imdbws.com/title.crew.tsv.gz'),\n",
       " ('title.episode.tsv', 'https://datasets.imdbws.com/title.episode.tsv.gz'),\n",
       " ('title.principals.tsv',\n",
       "  'https://datasets.imdbws.com/title.principals.tsv.gz'),\n",
       " ('title.ratings.tsv', 'https://datasets.imdbws.com/title.ratings.tsv.gz')]"
      ]
     },
     "metadata": {},
     "execution_count": 6
    }
   ],
   "source": [
    "url2"
   ]
  },
  {
   "cell_type": "code",
   "execution_count": 7,
   "metadata": {},
   "outputs": [],
   "source": [
    "for file,url in url2:\n",
    "    response = urllib.request.urlopen(url)\n",
    "    compressed_file = io.BytesIO(response.read())\n",
    "    decompressed_file = gzip.GzipFile(fileobj=compressed_file)\n",
    "    with open(file,\"wb\") as fd:\n",
    "        fd.write(decompressed_file.read())"
   ]
  },
  {
   "cell_type": "code",
   "execution_count": null,
   "metadata": {},
   "outputs": [],
   "source": []
  }
 ]
}