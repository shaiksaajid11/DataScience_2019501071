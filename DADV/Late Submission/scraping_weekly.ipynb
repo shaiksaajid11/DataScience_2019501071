{
 "cells": [
  {
   "cell_type": "code",
   "execution_count": 1,
   "id": "fec4c0c3",
   "metadata": {},
   "outputs": [],
   "source": [
    "import requests\n",
    "import urllib\n",
    "from bs4 import BeautifulSoup\n",
    "import re\n",
    "import io\n",
    "import gzip\n",
    "import time\n",
    "import csv\n",
    "import os\n",
    "from selenium import webdriver\n",
    "from selenium.webdriver.common.keys import Keys\n",
    "from webdriver_manager.chrome import ChromeDriverManager\n",
    "import pandas as pd\n",
    "\n",
    "\n",
    "\n",
    "def scraping_weekly(sym):\n",
    "    print(sym)\n",
    "    url = \"https://query1.finance.yahoo.com/v7/finance/download/\"+sym+\"?period1=1451692800&period2=1609545600&interval=1wk&events=history&includeAdjustedClose=true\"\n",
    "    response = requests.get(url)\n",
    "    bytes_io = io.BytesIO(response.content)\n",
    "    df_weekly = pd.read_csv(bytes_io, error_bad_lines=False)\n",
    "    df_weekly.to_csv(sym + \"_weekly.csv\")"
   ]
  },
  {
   "cell_type": "code",
   "execution_count": null,
   "id": "c5c9c8a8",
   "metadata": {},
   "outputs": [],
   "source": []
  }
 ],
 "metadata": {
  "kernelspec": {
   "display_name": "Python 3",
   "language": "python",
   "name": "python3"
  },
  "language_info": {
   "codemirror_mode": {
    "name": "ipython",
    "version": 3
   },
   "file_extension": ".py",
   "mimetype": "text/x-python",
   "name": "python",
   "nbconvert_exporter": "python",
   "pygments_lexer": "ipython3",
   "version": "3.8.10"
  },
  "metadata": {
   "interpreter": {
    "hash": "a7d2fd8b383be933b42e6c2f25ead2c5faec64873751374d67da6ebf6b388ae9"
   }
  }
 },
 "nbformat": 4,
 "nbformat_minor": 5
}
